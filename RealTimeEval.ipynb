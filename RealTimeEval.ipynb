{
 "cells": [
  {
   "cell_type": "code",
   "execution_count": 6,
   "metadata": {},
   "outputs": [],
   "source": [
    "import pyaudio\n",
    "import wave\n",
    "import pandas as pd\n",
    "import librosa\n",
    "import glob \n",
    "import librosa.display\n",
    "import os\n",
    "import numpy as np\n",
    "import tensorflow as tf\n",
    "from threading import Thread\n",
    "import time\n",
    "from collections import deque\n",
    "import tensorflow as tf\n",
    "from sklearn.preprocessing import LabelEncoder\n",
    "import pickle \n",
    "\n",
    "class Mic(Thread):\n",
    "    def __init__(self, Format, Chunk, Channels, Rate, Sec, FileName):\n",
    "        ''' Constructor. '''\n",
    "        \n",
    "        Thread.__init__(self)\n",
    "        \n",
    "        self.p = pyaudio.PyAudio()\n",
    "        chuck_per_second = 20480\n",
    "        self.Channels = Channels\n",
    "        self.Format = Format\n",
    "        self.Rate = Rate\n",
    "        self.Running = True\n",
    "        self.FileName = FileName\n",
    "        self.Chunk = Chunk\n",
    "        self.stream = self.p.open(format=Format,\n",
    "                        channels=Channels,\n",
    "                        rate=Rate,\n",
    "                        input=True,\n",
    "                        frames_per_buffer=Chunk)\n",
    "        self.queue = deque(maxlen=(round(chuck_per_second*15/Chunk)))\n",
    " \n",
    "    def run(self):\n",
    "        try:\n",
    "            print(\"Start acquisition\")\n",
    "            while self.Running:\n",
    "                data = self.stream.read(Chunk, exception_on_overflow = False)\n",
    "                self.queue.append(data)\n",
    "        except:\n",
    "            print(\"run() Error\")\n",
    "        \n",
    "            \n",
    "    def getAudioFile(self):\n",
    "        try:   \n",
    "            wf = wave.open(self.FileName, 'wb')\n",
    "            wf.setnchannels(self.Channels)\n",
    "            wf.setsampwidth(self.p.get_sample_size(self.Format))\n",
    "            wf.setframerate(self.Rate)\n",
    "            wf.writeframes(b''.join(self.queue))\n",
    "            wf.close()\n",
    "            features = []\n",
    "            features = extract_features('test.flac')\n",
    "            result = np.concatenate((features[0], features[1], features[2], features[3], features[4]), axis=0)\n",
    "            return result\n",
    "        except:\n",
    "            print(\"getAudioFile() Error\")\n",
    "            return \"\"\n",
    "        \n",
    "        \n",
    "    def stop(self):\n",
    "        self.Running = False"
   ]
  },
  {
   "cell_type": "code",
   "execution_count": 7,
   "metadata": {},
   "outputs": [],
   "source": [
    "def extract_features(files):\n",
    "    \n",
    "    # Sets the name to be the path to where the file is in my computer\n",
    "    file_name = os.path.join('test.flac')\n",
    "\n",
    "    # Loads the audio file as a floating point time series - default sample rate is set to 22050 by default\n",
    "    X, sample_rate = librosa.load(file_name, res_type='kaiser_fast') \n",
    "\n",
    "    #X, index = librosa.effects.trim(y=X, top_db=60) \n",
    "\n",
    "    # Generate Mel-frequency cepstral coefficients (MFCCs) from a time series \n",
    "    mfccs = np.mean(librosa.feature.mfcc(y=X, sr=sample_rate, n_mfcc=40).T,axis=0)\n",
    "\n",
    "    # Generates a Short-time Fourier transform (STFT) to use in the chroma_stft\n",
    "    stft = np.abs(librosa.stft(X))\n",
    "\n",
    "    # Computes a chromagram from a waveform or power spectrogram.\n",
    "    chroma = np.mean(librosa.feature.chroma_stft(S=stft, sr=sample_rate).T,axis=0)\n",
    "\n",
    "    # Computes a mel-scaled spectrogram.\n",
    "    mel = np.mean(librosa.feature.melspectrogram(X, sr=sample_rate).T,axis=0)\n",
    "\n",
    "    # Computes spectral contrast\n",
    "    contrast = np.mean(librosa.feature.spectral_contrast(S=stft, sr=sample_rate).T,axis=0)\n",
    "\n",
    "    # Computes the tonal centroid features (tonnetz)\n",
    "    tonnetz = np.mean(librosa.feature.tonnetz(y=librosa.effects.harmonic(X),sr=sample_rate).T,axis=0)\n",
    "    \n",
    "    return mfccs, chroma, mel, contrast, tonnetz #np.concatenate((mfccs, chroma, mel, contrast, tonnetz), axis=0)"
   ]
  },
  {
   "cell_type": "code",
   "execution_count": 11,
   "metadata": {
    "scrolled": false
   },
   "outputs": [
    {
     "name": "stdout",
     "output_type": "stream",
     "text": [
      "Start acquisition\n",
      ">>>>>[' Silence']\n",
      ">>>>>0.73088515\n",
      ">>>>>[' Silence']\n",
      ">>>>>0.60204417\n",
      ">>>>>[' Tommaso Elia']\n",
      ">>>>>0.9949864\n",
      ">>>>>[' Tommaso Elia']\n",
      ">>>>>0.9995647\n",
      ">>>>>[' Tommaso Elia']\n",
      ">>>>>0.99953926\n",
      ">>>>>[' Silence']\n",
      ">>>>>0.92409307\n",
      ">>>>>[' Tommaso Elia']\n",
      ">>>>>0.6959503\n",
      ">>>>>[' Tommaso Elia']\n",
      ">>>>>0.65927166\n",
      ">>>>>[' Silence']\n",
      ">>>>>0.4344425\n"
     ]
    },
    {
     "name": "stderr",
     "output_type": "stream",
     "text": [
      "\n",
      "KeyboardInterrupt\n",
      "\n"
     ]
    }
   ],
   "source": [
    "Chunk = 1024\n",
    "Format = pyaudio.paInt16\n",
    "Channels = 1\n",
    "Rate = 22050\n",
    "Sec = 15\n",
    "FileName = \"test.flac\"\n",
    "\n",
    "f_encoder = open('LabelEncoder.pkl', 'rb') \n",
    "lb = pickle.load(f_encoder)\n",
    "\n",
    "f_scaler = open('StandardScaler.pkl', 'rb') \n",
    "ss = pickle.load(f_scaler)\n",
    "\n",
    "model = tf.keras.models.load_model('saved_model/my_model')\n",
    "\n",
    "mic = Mic(Format, Chunk, Channels, Rate, Sec,FileName)\n",
    "mic.start()\n",
    "\n",
    "for i in range(0,10):\n",
    "    time.sleep(5)\n",
    "    features = mic.getAudioFile()\n",
    "    #print(ss.transform([features]))\n",
    "    pred = model.predict_classes(ss.transform([features]))\n",
    "    prob = model.predict_proba(ss.transform([features]))\n",
    "    print(\">>>>>\"+str(lb.inverse_transform(pred)))\n",
    "    print(\">>>>>\"+str(max(prob[0])))\n",
    "mic.stop()"
   ]
  },
  {
   "cell_type": "code",
   "execution_count": 93,
   "metadata": {},
   "outputs": [
    {
     "data": {
      "text/plain": [
       "array([' Albatross', ' Ancient mariner', ' Andy', ' Aringguth',\n",
       "       ' C F de Rosset', ' CaprishaPage', ' Carolin Ksr',\n",
       "       ' Charlene V. Smith', ' Chelsea Baker', ' Chip', ' Chris Hughes',\n",
       "       ' Chuck Williamson', ' Drew Johnson', ' Ernst Pattynama',\n",
       "       ' Gilles Lehoux', ' Hannah Dowell', ' HarryInk', ' JamesMcAndrew',\n",
       "       ' Jim Mowatt', ' Kendall Ashyby', ' Kenneth Sergeant Gaghan',\n",
       "       ' KevS', ' Kristen Zaza', ' Kristin Gjerlw', ' Lanerd',\n",
       "       ' Laura M.D.', ' Mariah Lyons', ' MaryModern', ' Matthew Walker',\n",
       "       ' Matthew Walton', ' Mike Vendetti', ' Millbeach', ' Mindy H',\n",
       "       ' Patrick Wells', ' Pete Milan', ' Rachel Craig', ' Raybrite',\n",
       "       ' Richard Beck', ' Robert Keiper', ' Sharon C.', ' Silence',\n",
       "       ' Steph', ' Steve Belleguelle', ' Tim Makarios', ' Tom Causby',\n",
       "       ' Troy Bond', ' Uday Sagar', ' brrrrrr6', ' mb', ' mjbrichant',\n",
       "       ' penboy7000', ' rachaelg', ' redabrus', ' shana', ' shihping',\n",
       "       ' sparks0314', ' tabithat', ' webround', ' yeknod'], dtype=object)"
      ]
     },
     "execution_count": 93,
     "metadata": {},
     "output_type": "execute_result"
    }
   ],
   "source": []
  },
  {
   "cell_type": "code",
   "execution_count": 85,
   "metadata": {},
   "outputs": [
    {
     "name": "stdout",
     "output_type": "stream",
     "text": [
      "[' Anka']\n"
     ]
    }
   ],
   "source": []
  },
  {
   "cell_type": "code",
   "execution_count": null,
   "metadata": {},
   "outputs": [],
   "source": []
  }
 ],
 "metadata": {
  "kernelspec": {
   "display_name": "Python 3.7.6 64-bit ('tens': conda)",
   "language": "python",
   "name": "python37664bittensconda89ff21a976a74df180565696082c35ac"
  },
  "language_info": {
   "codemirror_mode": {
    "name": "ipython",
    "version": 3
   },
   "file_extension": ".py",
   "mimetype": "text/x-python",
   "name": "python",
   "nbconvert_exporter": "python",
   "pygments_lexer": "ipython3",
   "version": "3.7.6"
  }
 },
 "nbformat": 4,
 "nbformat_minor": 4
}
