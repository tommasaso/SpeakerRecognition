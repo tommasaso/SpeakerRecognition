{
 "cells": [
  {
   "cell_type": "code",
   "execution_count": 13,
   "metadata": {},
   "outputs": [],
   "source": [
    "import pyaudio\n",
    "import wave\n",
    "import pandas as pd\n",
    "import librosa\n",
    "import glob \n",
    "import librosa.display\n",
    "import os\n",
    "import numpy as np\n",
    "import tensorflow as tf\n",
    "from threading import Thread\n",
    "import time\n",
    "from collections import deque\n",
    "import tensorflow as tf\n",
    "from sklearn.preprocessing import LabelEncoder\n",
    "import pickle \n",
    "\n",
    "\n",
    "#About 10240 Chuck al secondo \n",
    "class Mic(Thread):\n",
    "    def __init__(self, Format, Chunk, Channels, Rate, Sec, FileName, Path):\n",
    "        ''' Constructor. '''\n",
    "        \n",
    "        Thread.__init__(self)\n",
    "        self.Path = Path\n",
    "        self.p = pyaudio.PyAudio()\n",
    "        chuck_per_second = 20480\n",
    "        self.Channels = Channels\n",
    "        self.Format = Format\n",
    "        self.Rate = Rate\n",
    "        self.Running = True\n",
    "        self.FileName = FileName\n",
    "        self.Chunk = Chunk\n",
    "        self.stream = self.p.open(format=Format,\n",
    "                        channels=Channels,\n",
    "                        rate=Rate,\n",
    "                        input=True,\n",
    "                        frames_per_buffer=Chunk)\n",
    "        self.queue = deque(maxlen=(round(chuck_per_second*15/Chunk)))\n",
    " \n",
    "    def run(self):\n",
    "        try:\n",
    "            print(\"Start acquisition\")\n",
    "            while self.Running:\n",
    "                data = self.stream.read(Chunk, exception_on_overflow = False)\n",
    "                self.queue.append(data)\n",
    "        except:\n",
    "            print(\"run() Error\")\n",
    "        \n",
    "            \n",
    "    def getAudioFile(self,fileName):\n",
    "        try:   \n",
    "            \n",
    "            wf = wave.open(self.Path+fileName, 'wb')\n",
    "            wf.setnchannels(self.Channels)\n",
    "            wf.setsampwidth(self.p.get_sample_size(self.Format))\n",
    "            wf.setframerate(self.Rate)\n",
    "            wf.writeframes(b''.join(self.queue))\n",
    "            wf.close()\n",
    "        except:\n",
    "            print(\"getAudioFile() Error\")\n",
    "            return \"\"\n",
    "        \n",
    "        \n",
    "    def stop(self):\n",
    "        self.Running = False"
   ]
  },
  {
   "cell_type": "code",
   "execution_count": 21,
   "metadata": {},
   "outputs": [
    {
     "name": "stdout",
     "output_type": "stream",
     "text": [
      "Start acquisition\n",
      "71\n",
      "72\n",
      "73\n",
      "74\n",
      "75\n",
      "76\n",
      "77\n",
      "78\n",
      "79\n",
      "80\n"
     ]
    }
   ],
   "source": [
    "Chunk = 1024\n",
    "Format = pyaudio.paInt16\n",
    "Channels = 1\n",
    "Rate = 22050\n",
    "Sec = 15\n",
    "Path = \"DataSet.nosync/train-other-500/1/13/\"\n",
    "FileName = \"test.flac\"\n",
    "\n",
    "#lb = LabelEncoder()\n",
    "f_encoder = open('LabelEncoder.pkl', 'rb') \n",
    "lb = pickle.load(f_encoder)\n",
    "\n",
    "f_scaler = open('StandardScaler.pkl', 'rb') \n",
    "ss = pickle.load(f_scaler)\n",
    "\n",
    "model = tf.keras.models.load_model('saved_model/my_model')\n",
    "\n",
    "mic = Mic(Format, Chunk, Channels, Rate, Sec, FileName, Path)\n",
    "mic.start()\n",
    "\n",
    "for i in range(71,81):\n",
    "    time.sleep(15)\n",
    "    print(i)\n",
    "    mic.getAudioFile('1-13-00'+str(i)+\".flac\")\n",
    "mic.stop()"
   ]
  },
  {
   "cell_type": "code",
   "execution_count": null,
   "metadata": {
    "scrolled": false
   },
   "outputs": [],
   "source": []
  },
  {
   "cell_type": "code",
   "execution_count": null,
   "metadata": {},
   "outputs": [],
   "source": []
  },
  {
   "cell_type": "code",
   "execution_count": null,
   "metadata": {},
   "outputs": [],
   "source": []
  },
  {
   "cell_type": "code",
   "execution_count": null,
   "metadata": {},
   "outputs": [],
   "source": []
  }
 ],
 "metadata": {
  "kernelspec": {
   "display_name": "Python 3.7.6 64-bit ('tens': conda)",
   "language": "python",
   "name": "python37664bittensconda89ff21a976a74df180565696082c35ac"
  },
  "language_info": {
   "codemirror_mode": {
    "name": "ipython",
    "version": 3
   },
   "file_extension": ".py",
   "mimetype": "text/x-python",
   "name": "python",
   "nbconvert_exporter": "python",
   "pygments_lexer": "ipython3",
   "version": "3.7.6"
  }
 },
 "nbformat": 4,
 "nbformat_minor": 4
}
